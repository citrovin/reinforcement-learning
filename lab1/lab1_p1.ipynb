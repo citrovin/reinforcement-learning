{
 "cells": [
  {
   "cell_type": "markdown",
   "metadata": {},
   "source": [
    "# Computer Laboratory 1\n",
    "\n",
    "By Valeria Grotto (...) and Dalim Wahby (...)\n",
    "\n",
    "---"
   ]
  },
  {
   "cell_type": "markdown",
   "metadata": {},
   "source": [
    "## The Environment"
   ]
  },
  {
   "cell_type": "code",
   "execution_count": 5,
   "metadata": {},
   "outputs": [],
   "source": [
    "# This is the solution to problem 1\n",
    "# Written by Dalim Wahby (T0606-9...) and Valeria Grotto (Person number)\n",
    "# Last update: 2020-11-05\n",
    "\n",
    "import numpy as np\n",
    "import maze as mz "
   ]
  },
  {
   "cell_type": "code",
   "execution_count": 6,
   "metadata": {},
   "outputs": [],
   "source": [
    "\n",
    "# Description of the maze as a numpy array\n",
    "maze = np.array([\n",
    "    [0, 0, 1, 0, 0, 0, 0],\n",
    "    [0, 0, 1, 0, 1, 0, 0],\n",
    "    [0, 0, 1, 0, 1, 1, 1],\n",
    "    [0, 0, 0, 0, 1, 0, 0],\n",
    "    [0, 0, 0, 0, 0, 0, 0],\n",
    "    [0, 1, 1, 1, 1, 1, 0],\n",
    "    [0, 0, 0, 1, 2, 0, 0]\n",
    "\n",
    "])\n",
    "# with the convention \n",
    "# 0 = empty cell\n",
    "# 1 = obstacle\n",
    "# 2 = exit of the Maze\n",
    "\n",
    "# draw the maze\n",
    "# mz.draw_maze(maze)\n",
    "\n",
    "# Create an environment maze\n",
    "env = mz.Maze(maze, random_rewards=True, minotaur_stay=False)\n",
    "# env.show()"
   ]
  },
  {
   "cell_type": "markdown",
   "metadata": {},
   "source": [
    "## Define the MDP"
   ]
  },
  {
   "cell_type": "markdown",
   "metadata": {},
   "source": [
    "The $MDP$ is defined by the following 5-tuple:\n",
    "$$ MPD=\\{\\mathcal{S}, \\mathcal{A}, \\mathcal{R}, \\mathcal{P}\\} $$\n",
    "\n",
    "with \n",
    "- State space: $\\mathcal{S} = \\{\\{(x,y) \\textrm{ with }x, y=1,...,10\\} \\cup {(x_M,y_M) \\textrm{, position minotaur}}\\}$,\n",
    "- Action space: $\\mathcal{A} = \\{\\mathrm{up}, \\mathrm{ down}, \\mathrm{ left}, \\mathrm{ right}\\}$,\n",
    "- Reward: $\\mathcal{R} = \\{\\}$,\n",
    "    - $r_1(s,a) = 1$\n",
    "    - $r_2(s,a) = 1$\n",
    "- Transition probabilities: $\\mathcal{P} = \\{\\}$.\n",
    "\n",
    "$x$ and $y$ denote the position of the cell the player is currently in."
   ]
  },
  {
   "cell_type": "markdown",
   "metadata": {},
   "source": [
    "# Dynamic Programming"
   ]
  },
  {
   "cell_type": "code",
   "execution_count": 7,
   "metadata": {},
   "outputs": [],
   "source": [
    "\n",
    "def dynamic_programming():\n",
    "    # TODO Dynamic programming algorithm:\n",
    "    return -1"
   ]
  },
  {
   "cell_type": "code",
   "execution_count": 8,
   "metadata": {},
   "outputs": [
    {
     "data": {
      "image/png": "[encoded data removed]",
      "text/plain": [
       "<Figure size 700x700 with 1 Axes>"
      ]
     },
     "metadata": {},
     "output_type": "display_data"
    }
   ],
   "source": [
    "# Finite horizon\n",
    "horizon = 15\n",
    "# Solve the MDP problem with dynamic programming \n",
    "V, policy= mz.dynamic_programming(env,horizon)\n",
    "# Simulate the shortest path starting from position A\n",
    "method = 'DynProg'\n",
    "start  = (0,0)\n",
    "minotaur_start= (5,5)\n",
    "path, minotaur_path = env.simulate(start, policy, method, minotaur_start)\n",
    "# Show the shortest path \n",
    "mz.animate_solution(maze, path, minotaur_path)"
   ]
  }
 ],
 "metadata": {
  "kernelspec": {
   "display_name": "venv_reinforcement_learning",
   "language": "python",
   "name": "python3"
  },
  "language_info": {
   "codemirror_mode": {
    "name": "ipython",
    "version": 3
   },
   "file_extension": ".py",
   "mimetype": "text/x-python",
   "name": "python",
   "nbconvert_exporter": "python",
   "pygments_lexer": "ipython3",
   "version": "3.10.13"
  }
 },
 "nbformat": 4,
 "nbformat_minor": 2
}
